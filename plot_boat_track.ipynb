{
 "cells": [
  {
   "cell_type": "markdown",
   "id": "bb4eec19",
   "metadata": {},
   "source": [
    "## Plot Kittiwake Track and Mooring Drop"
   ]
  },
  {
   "cell_type": "code",
   "execution_count": null,
   "id": "330151f6",
   "metadata": {},
   "outputs": [],
   "source": [
    "import numpy as np \n",
    "import matplotlib.pyplot as plt"
   ]
  }
 ],
 "metadata": {
  "language_info": {
   "name": "python"
  }
 },
 "nbformat": 4,
 "nbformat_minor": 5
}
